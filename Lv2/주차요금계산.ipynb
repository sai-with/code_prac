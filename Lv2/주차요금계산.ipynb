{
 "cells": [
  {
   "cell_type": "markdown",
   "metadata": {},
   "source": [
    "# 주차요금계산\n",
    "링크: https://school.programmers.co.kr/learn/courses/30/lessons/92341"
   ]
  },
  {
   "cell_type": "markdown",
   "metadata": {},
   "source": [
    "## 내 풀이"
   ]
  },
  {
   "cell_type": "code",
   "execution_count": 1,
   "metadata": {},
   "outputs": [
    {
     "data": {
      "text/plain": [
       "[-50200, 34400, -5200]"
      ]
     },
     "execution_count": 1,
     "metadata": {},
     "output_type": "execute_result"
    }
   ],
   "source": [
    "def solution(fees, records):\n",
    "    car_in = dict()\n",
    "    car_out = dict()\n",
    "    nums = []\n",
    "    for r in records:\n",
    "        time, num, status = r.split()\n",
    "        if status == 'IN':\n",
    "            car_in[num] = time # 입차 기록\n",
    "            nums.append(num) # 차량 번호 리스트\n",
    "        else:\n",
    "            car_out[num] = time # 출차 기록\n",
    "    \n",
    "    def time_to_min(time): # 분 단위 변환 함수\n",
    "        h, m = time.split(':')\n",
    "        return int(h)*60 + int(m)\n",
    "    \n",
    "    def total_fee(minutes, fees): # 요금 계산 함수\n",
    "        fee = fees[1]\n",
    "        minutes -= fees[0]\n",
    "        fee += minutes // fees[2] * fees[3]\n",
    "        if minutes % fees[2] != 0:\n",
    "            fee += fees[3]\n",
    "        return fee\n",
    "    \n",
    "    fee_dict = dict(zip(sorted(nums), [0 for i in nums])) # 누적 요금\n",
    "    for num in fee_dict.keys(): # 차량 번호 마다(정렬)\n",
    "        if num in car_out.keys():\n",
    "            minutes = time_to_min(car_out[num]) - time_to_min(car_in[num]) # 출차 - 입차\n",
    "            fee_dict[num] = total_fee(minutes, fees)\n",
    "        else:\n",
    "            minutes = time_to_min('23:59') - time_to_min(car_in[num]) # 마감 - 입차\n",
    "            fee_dict[num] = total_fee(minutes, fees)\n",
    "    return list(fee_dict.values())\n",
    "\n",
    "solution([180, 5000, 10, 600],\\\n",
    "    [\"05:34 5961 IN\", \"06:00 0000 IN\", \"06:34 0000 OUT\", \"07:59 5961 OUT\", \"07:59 0148 IN\", \"18:59 0000 IN\", \"19:09 0148 OUT\", \"22:59 5961 IN\", \"23:00 5961 OUT\"])"
   ]
  },
  {
   "cell_type": "markdown",
   "metadata": {},
   "source": [
    "* 다시 입차한 경우가 계산 오류"
   ]
  },
  {
   "cell_type": "markdown",
   "metadata": {},
   "source": [
    "## 내풀이 2"
   ]
  },
  {
   "cell_type": "code",
   "execution_count": 2,
   "metadata": {},
   "outputs": [
    {
     "ename": "KeyError",
     "evalue": "'0000'",
     "output_type": "error",
     "traceback": [
      "\u001b[0;31m---------------------------------------------------------------------------\u001b[0m",
      "\u001b[0;31mKeyError\u001b[0m                                  Traceback (most recent call last)",
      "Cell \u001b[0;32mIn[2], line 37\u001b[0m\n\u001b[1;32m     33\u001b[0m     \u001b[38;5;28msorted\u001b[39m(fee_dic\u001b[38;5;241m.\u001b[39mkeys())\n\u001b[1;32m     35\u001b[0m     \u001b[38;5;28;01mreturn\u001b[39;00m \u001b[38;5;28mlist\u001b[39m(fee_dic\u001b[38;5;241m.\u001b[39mvalues())\n\u001b[0;32m---> 37\u001b[0m \u001b[43msolution\u001b[49m\u001b[43m(\u001b[49m\u001b[43m[\u001b[49m\u001b[38;5;241;43m180\u001b[39;49m\u001b[43m,\u001b[49m\u001b[43m \u001b[49m\u001b[38;5;241;43m5000\u001b[39;49m\u001b[43m,\u001b[49m\u001b[43m \u001b[49m\u001b[38;5;241;43m10\u001b[39;49m\u001b[43m,\u001b[49m\u001b[43m \u001b[49m\u001b[38;5;241;43m600\u001b[39;49m\u001b[43m]\u001b[49m\u001b[43m,\u001b[49m\u001b[43m\\\u001b[49m\n\u001b[1;32m     38\u001b[0m \u001b[43m    \u001b[49m\u001b[43m[\u001b[49m\u001b[38;5;124;43m\"\u001b[39;49m\u001b[38;5;124;43m05:34 5961 IN\u001b[39;49m\u001b[38;5;124;43m\"\u001b[39;49m\u001b[43m,\u001b[49m\u001b[43m \u001b[49m\u001b[38;5;124;43m\"\u001b[39;49m\u001b[38;5;124;43m06:00 0000 IN\u001b[39;49m\u001b[38;5;124;43m\"\u001b[39;49m\u001b[43m,\u001b[49m\u001b[43m \u001b[49m\u001b[38;5;124;43m\"\u001b[39;49m\u001b[38;5;124;43m06:34 0000 OUT\u001b[39;49m\u001b[38;5;124;43m\"\u001b[39;49m\u001b[43m,\u001b[49m\u001b[43m \u001b[49m\u001b[38;5;124;43m\"\u001b[39;49m\u001b[38;5;124;43m07:59 5961 OUT\u001b[39;49m\u001b[38;5;124;43m\"\u001b[39;49m\u001b[43m,\u001b[49m\u001b[43m \u001b[49m\u001b[38;5;124;43m\"\u001b[39;49m\u001b[38;5;124;43m07:59 0148 IN\u001b[39;49m\u001b[38;5;124;43m\"\u001b[39;49m\u001b[43m,\u001b[49m\u001b[43m \u001b[49m\u001b[38;5;124;43m\"\u001b[39;49m\u001b[38;5;124;43m18:59 0000 IN\u001b[39;49m\u001b[38;5;124;43m\"\u001b[39;49m\u001b[43m,\u001b[49m\u001b[43m \u001b[49m\u001b[38;5;124;43m\"\u001b[39;49m\u001b[38;5;124;43m19:09 0148 OUT\u001b[39;49m\u001b[38;5;124;43m\"\u001b[39;49m\u001b[43m,\u001b[49m\u001b[43m \u001b[49m\u001b[38;5;124;43m\"\u001b[39;49m\u001b[38;5;124;43m22:59 5961 IN\u001b[39;49m\u001b[38;5;124;43m\"\u001b[39;49m\u001b[43m,\u001b[49m\u001b[43m \u001b[49m\u001b[38;5;124;43m\"\u001b[39;49m\u001b[38;5;124;43m23:00 5961 OUT\u001b[39;49m\u001b[38;5;124;43m\"\u001b[39;49m\u001b[43m]\u001b[49m\u001b[43m)\u001b[49m\n",
      "Cell \u001b[0;32mIn[2], line 25\u001b[0m, in \u001b[0;36msolution\u001b[0;34m(fees, records)\u001b[0m\n\u001b[1;32m     23\u001b[0m     \u001b[38;5;28;01melse\u001b[39;00m: \u001b[38;5;66;03m# 출차\u001b[39;00m\n\u001b[1;32m     24\u001b[0m         minutes \u001b[38;5;241m=\u001b[39m time \u001b[38;5;241m-\u001b[39m time_dic[num]\n\u001b[0;32m---> 25\u001b[0m         fee_dic[num] \u001b[38;5;241m+\u001b[39m\u001b[38;5;241m=\u001b[39m total_fee(minutes, fees)\n\u001b[1;32m     26\u001b[0m \u001b[38;5;28;01mfor\u001b[39;00m k, v \u001b[38;5;129;01min\u001b[39;00m time_dic\u001b[38;5;241m.\u001b[39mitems():\n\u001b[1;32m     27\u001b[0m     \u001b[38;5;28;01mif\u001b[39;00m v \u001b[38;5;241m!=\u001b[39m \u001b[38;5;241m0\u001b[39m: \u001b[38;5;66;03m# 미정산 된 차량이 있다면\u001b[39;00m\n",
      "\u001b[0;31mKeyError\u001b[0m: '0000'"
     ]
    }
   ],
   "source": [
    "def solution(fees, records):\n",
    "    def time_to_min(time): # 분 단위 변환 함수\n",
    "        h, m = time.split(':')\n",
    "        return int(h)*60 + int(m)\n",
    "    \n",
    "    def total_fee(minutes, fees): # 요금 계산 함수\n",
    "        fee = fees[1]\n",
    "        minutes -= fees[0]\n",
    "        fee += minutes // fees[2] * fees[3]\n",
    "        if minutes % fees[2] != 0:\n",
    "            fee += fees[3]\n",
    "        return fee\n",
    "    \n",
    "    time_dic = dict() # 입차 시간\n",
    "    fee_dic = dict() # 누적 요금\n",
    "    \n",
    "    for r in records:\n",
    "        time, num, status = r.split()\n",
    "        time = time_to_min(time)\n",
    "        if status == \"IN\": # 입차\n",
    "            if num not in time_dic.keys() or time_dic[num] == 0: # 첫 입차거나 정산 끝났으면        \n",
    "                time_dic[num] = time \n",
    "        else: # 출차\n",
    "            minutes = time - time_dic[num]\n",
    "            fee_dic[num] += total_fee(minutes, fees)\n",
    "    for k, v in time_dic.items():\n",
    "        if v != 0: # 미정산 된 차량이 있다면\n",
    "            minutes = time_to_min('23:59') - v\n",
    "            if k in fee_dic.keys():\n",
    "                fee_dic[k] += total_fee(minutes, fees)\n",
    "            else:\n",
    "                fee_dic[k] = total_fee(minutes, fees)\n",
    "    sorted(fee_dic.keys())\n",
    "    \n",
    "    return list(fee_dic.values())\n",
    "\n",
    "solution([180, 5000, 10, 600],\\\n",
    "    [\"05:34 5961 IN\", \"06:00 0000 IN\", \"06:34 0000 OUT\", \"07:59 5961 OUT\", \"07:59 0148 IN\", \"18:59 0000 IN\", \"19:09 0148 OUT\", \"22:59 5961 IN\", \"23:00 5961 OUT\"])"
   ]
  },
  {
   "cell_type": "markdown",
   "metadata": {},
   "source": [
    "* dict에 key가 있는 지 먼저 확인"
   ]
  },
  {
   "cell_type": "code",
   "execution_count": 3,
   "metadata": {},
   "outputs": [
    {
     "data": {
      "text/plain": [
       "[55600, 121200, 86200]"
      ]
     },
     "execution_count": 3,
     "metadata": {},
     "output_type": "execute_result"
    }
   ],
   "source": [
    "def solution(fees, records):\n",
    "    def time_to_min(time): # 분 단위 변환 함수\n",
    "        h, m = time.split(':')\n",
    "        return int(h)*60 + int(m)\n",
    "    \n",
    "    def total_fee(minutes, fees): # 요금 계산 함수\n",
    "        fee = fees[1]\n",
    "        minutes -= fees[0]\n",
    "        fee += minutes // fees[2] * fees[3]\n",
    "        if minutes % fees[2] != 0:\n",
    "            fee += fees[3]\n",
    "        return fee\n",
    "    \n",
    "    time_dic = dict() # 입차 시간\n",
    "    fee_dic = dict() # 누적 요금\n",
    "    \n",
    "    for r in records:\n",
    "        time, num, status = r.split()\n",
    "        time = time_to_min(time)\n",
    "        if status == \"IN\": # 입차\n",
    "            if num not in time_dic.keys() or time_dic[num] == 0: # 첫 입차거나 정산 끝났으면        \n",
    "                time_dic[num] = time \n",
    "        else: # 출차\n",
    "            minutes = time - time_dic[num]\n",
    "            if num in fee_dic.keys():\n",
    "                fee_dic[num] += total_fee(minutes, fees)\n",
    "            else:\n",
    "                fee_dic[num] = total_fee(minutes, fees)\n",
    "    for k, v in time_dic.items():\n",
    "        if v != 0: # 미정산 된 차량이 있다면\n",
    "            minutes = time_to_min('23:59') - v\n",
    "            if k in fee_dic.keys():\n",
    "                fee_dic[k] += total_fee(minutes, fees)\n",
    "            else:\n",
    "                fee_dic[k] = total_fee(minutes, fees)\n",
    "    sorted(fee_dic.keys())\n",
    "    \n",
    "    return list(fee_dic.values())\n",
    "\n",
    "solution([180, 5000, 10, 600],\\\n",
    "    [\"05:34 5961 IN\", \"06:00 0000 IN\", \"06:34 0000 OUT\", \"07:59 5961 OUT\", \"07:59 0148 IN\", \"18:59 0000 IN\", \"19:09 0148 OUT\", \"22:59 5961 IN\", \"23:00 5961 OUT\"])"
   ]
  },
  {
   "cell_type": "markdown",
   "metadata": {},
   "source": [
    "* 요금 정산 함수 수정\n",
    "\n",
    "    재입차 했을 때, 이전 정산때 180분 미만으로 이용했으면 남은 시간만큼 무료\n",
    "\n",
    "    => 누적 요금이 아닌, 누적 이용시간으로 계산. 요금 계산은 마지막에"
   ]
  },
  {
   "cell_type": "code",
   "execution_count": 4,
   "metadata": {},
   "outputs": [
    {
     "data": {
      "text/plain": [
       "[14600, 34400, 5000]"
      ]
     },
     "execution_count": 4,
     "metadata": {},
     "output_type": "execute_result"
    }
   ],
   "source": [
    "def solution(fees, records):\n",
    "    # 최종적으로 이용한 시간(분)으로 요금 계산\n",
    "    \n",
    "    limit = fees[0] # 기본 시간\n",
    "    in_rec = dict() # 입차시간 str\n",
    "    use_rec = dict() # 이용시간 int\n",
    "\n",
    "    def t_to_m(time): # 분 단위 변환 함수\n",
    "        h, m = time.split(':')\n",
    "        return int(h)*60 + int(m)\n",
    "\n",
    "    def fee_cal(minutes, fees): # 요금 계산 함수\n",
    "        fee = fees[1]\n",
    "        minutes -= fees[0]\n",
    "        if minutes > 0:\n",
    "            if minutes % fees[2] != 0:\n",
    "                fee += (minutes // fees[2]+1) * fees[3]\n",
    "            else:\n",
    "                fee += (minutes // fees[2]) * fees[3]\n",
    "        return fee\n",
    "            \n",
    "    for r in records:\n",
    "        time, num, status = r.split()\n",
    "        if status == 'IN': # 입차기록\n",
    "            in_rec[num] = time\n",
    "        else:\n",
    "            if num not in use_rec.keys():\n",
    "                use_rec[num] = t_to_m(time) - t_to_m(in_rec[num]) # 이용시간 계산\n",
    "            else:\n",
    "                use_rec[num] += t_to_m(time) - t_to_m(in_rec[num]) # 이용시간 누적\n",
    "            in_rec[num] = -1 # 정산 완료\n",
    "        \n",
    "    for num, time in in_rec.items(): # 미출차 차량 자동 정산\n",
    "        if time != -1:\n",
    "            if num not in use_rec.keys():\n",
    "                use_rec[num] = t_to_m('23:59') - t_to_m(in_rec[num]) # 이용시간 계산\n",
    "            else:\n",
    "                use_rec[num] += t_to_m('23:59') - t_to_m(in_rec[num]) # 이용시간 누적\n",
    "                \n",
    "    # 누적 이용 시간으로 요금 계산            \n",
    "    nums = sorted(use_rec.keys())\n",
    "    answer = []\n",
    "    for num in nums:\n",
    "        answer.append(fee_cal(use_rec[num], fees))\n",
    "    \n",
    "    \n",
    "    return answer\n",
    "\n",
    "solution([180, 5000, 10, 600],\\\n",
    "    [\"05:34 5961 IN\", \"06:00 0000 IN\", \"06:34 0000 OUT\", \"07:59 5961 OUT\", \"07:59 0148 IN\", \"18:59 0000 IN\", \"19:09 0148 OUT\", \"22:59 5961 IN\", \"23:00 5961 OUT\"])"
   ]
  },
  {
   "cell_type": "code",
   "execution_count": null,
   "metadata": {},
   "outputs": [],
   "source": []
  }
 ],
 "metadata": {
  "kernelspec": {
   "display_name": "section4_pj",
   "language": "python",
   "name": "python3"
  },
  "language_info": {
   "codemirror_mode": {
    "name": "ipython",
    "version": 3
   },
   "file_extension": ".py",
   "mimetype": "text/x-python",
   "name": "python",
   "nbconvert_exporter": "python",
   "pygments_lexer": "ipython3",
   "version": "3.8.16"
  }
 },
 "nbformat": 4,
 "nbformat_minor": 2
}
