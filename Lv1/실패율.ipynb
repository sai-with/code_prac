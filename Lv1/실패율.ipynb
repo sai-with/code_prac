{
 "cells": [
  {
   "cell_type": "markdown",
   "metadata": {},
   "source": [
    "# 실패율 계산\n",
    "링크: https://school.programmers.co.kr/learn/courses/30/lessons/42889"
   ]
  },
  {
   "cell_type": "markdown",
   "metadata": {},
   "source": [
    "## 내 풀이"
   ]
  },
  {
   "cell_type": "code",
   "execution_count": 1,
   "metadata": {},
   "outputs": [
    {
     "ename": "TypeError",
     "evalue": "can only concatenate tuple (not \"int\") to tuple",
     "output_type": "error",
     "traceback": [
      "\u001b[0;31m---------------------------------------------------------------------------\u001b[0m",
      "\u001b[0;31mTypeError\u001b[0m                                 Traceback (most recent call last)",
      "Cell \u001b[0;32mIn[1], line 18\u001b[0m\n\u001b[1;32m     15\u001b[0m     answer \u001b[38;5;241m=\u001b[39m [num[\u001b[38;5;241m0\u001b[39m] \u001b[38;5;28;01mfor\u001b[39;00m num \u001b[38;5;129;01min\u001b[39;00m nums]\n\u001b[1;32m     16\u001b[0m     \u001b[38;5;28;01mreturn\u001b[39;00m answer\n\u001b[0;32m---> 18\u001b[0m \u001b[43msolution\u001b[49m\u001b[43m(\u001b[49m\u001b[38;5;241;43m5\u001b[39;49m\u001b[43m,\u001b[49m\u001b[43m \u001b[49m\u001b[43m[\u001b[49m\u001b[38;5;241;43m2\u001b[39;49m\u001b[43m,\u001b[49m\u001b[43m \u001b[49m\u001b[38;5;241;43m1\u001b[39;49m\u001b[43m,\u001b[49m\u001b[43m \u001b[49m\u001b[38;5;241;43m2\u001b[39;49m\u001b[43m,\u001b[49m\u001b[43m \u001b[49m\u001b[38;5;241;43m6\u001b[39;49m\u001b[43m,\u001b[49m\u001b[43m \u001b[49m\u001b[38;5;241;43m2\u001b[39;49m\u001b[43m,\u001b[49m\u001b[43m \u001b[49m\u001b[38;5;241;43m4\u001b[39;49m\u001b[43m,\u001b[49m\u001b[43m \u001b[49m\u001b[38;5;241;43m3\u001b[39;49m\u001b[43m,\u001b[49m\u001b[43m \u001b[49m\u001b[38;5;241;43m3\u001b[39;49m\u001b[43m]\u001b[49m\u001b[43m)\u001b[49m\n",
      "Cell \u001b[0;32mIn[1], line 6\u001b[0m, in \u001b[0;36msolution\u001b[0;34m(N, stages)\u001b[0m\n\u001b[1;32m      4\u001b[0m loser \u001b[38;5;241m=\u001b[39m stages\u001b[38;5;241m.\u001b[39mcount(i) \u001b[38;5;66;03m# 해당 스테이지에 도전중인 유저\u001b[39;00m\n\u001b[1;32m      5\u001b[0m winner \u001b[38;5;241m=\u001b[39m \u001b[38;5;241m0\u001b[39m\n\u001b[0;32m----> 6\u001b[0m \u001b[38;5;28;01mfor\u001b[39;00m j \u001b[38;5;129;01min\u001b[39;00m \u001b[38;5;28mrange\u001b[39m(\u001b[43mi\u001b[49m\u001b[38;5;241;43m+\u001b[39;49m\u001b[38;5;241;43m1\u001b[39;49m, N\u001b[38;5;241m+\u001b[39m\u001b[38;5;241m2\u001b[39m): \u001b[38;5;66;03m# 해당 스테이지를 클리어한 유저\u001b[39;00m\n\u001b[1;32m      7\u001b[0m     winner \u001b[38;5;241m+\u001b[39m\u001b[38;5;241m=\u001b[39m stages\u001b[38;5;241m.\u001b[39mcount(j)\n\u001b[1;32m      8\u001b[0m \u001b[38;5;66;03m# winner != 0 loser = 0 실패율 0\u001b[39;00m\n\u001b[1;32m      9\u001b[0m \u001b[38;5;66;03m# winner = 0 loser != 0 실패율 0\u001b[39;00m\n",
      "\u001b[0;31mTypeError\u001b[0m: can only concatenate tuple (not \"int\") to tuple"
     ]
    }
   ],
   "source": [
    "def solution(N, stages):\n",
    "    nums = [(i+1, 0) for i in range(N)]\n",
    "    for i in nums:\n",
    "        loser = stages.count(i) # 해당 스테이지에 도전중인 유저\n",
    "        winner = 0\n",
    "        for j in range(i+1, N+2): # 해당 스테이지를 클리어한 유저\n",
    "            winner += stages.count(j)\n",
    "        # winner != 0 loser = 0 실패율 0\n",
    "        # winner = 0 loser != 0 실패율 0\n",
    "        if loser == 0 or winner == 0:\n",
    "            pass\n",
    "        else:\n",
    "            nums[i-1][1] = loser/winner # 실패율 계산\n",
    "    nums.sort(key = lambda x: (x[1], x[0]), reverse=(True, False))\n",
    "    answer = [num[0] for num in nums]\n",
    "    return answer\n",
    "\n",
    "solution(5,[2, 1, 2, 6, 2, 4, 3, 3])"
   ]
  },
  {
   "cell_type": "code",
   "execution_count": 7,
   "metadata": {},
   "outputs": [
    {
     "data": {
      "text/plain": [
       "[3, 4, 2, 1, 5]"
      ]
     },
     "execution_count": 7,
     "metadata": {},
     "output_type": "execute_result"
    }
   ],
   "source": [
    "def solution(N, stages):\n",
    "    nums = [[i+1, 0] for i in range(N)]\n",
    "    for i in nums:\n",
    "        loser = stages.count(i[0]) # 해당 스테이지에 도전중인 유저\n",
    "        winner = 0\n",
    "        for j in range(i[0]+1, N+2): # 해당 스테이지를 클리어한 유저\n",
    "            winner += stages.count(j)\n",
    "        # winner != 0 loser = 0 실패율 0\n",
    "        # winner = 0 loser != 0 실패율 0\n",
    "        if loser == 0 or winner == 0:\n",
    "            pass\n",
    "        else:\n",
    "            nums[i[0]-1][1] = loser/winner # 실패율 계산\n",
    "    nums.sort(key = lambda x: (-x[1], x[0])) # 내림차순, 오름차순\n",
    "    answer = [num[0] for num in nums]\n",
    "    return answer\n",
    "\n",
    "solution(5,[2, 1, 2, 6, 2, 4, 3, 3])"
   ]
  },
  {
   "cell_type": "markdown",
   "metadata": {},
   "source": [
    "* 실패율 1의 경우 추가 \n",
    "\n",
    "    ```\n",
    "    n+1 스테이지 진행중인 유저가 0\n",
    "    n 스테이지 진행중인 유저가 != 0\n",
    "    ```\n",
    "    \n",
    "    \n",
    "    실패율 100%\n"
   ]
  },
  {
   "cell_type": "code",
   "execution_count": 9,
   "metadata": {},
   "outputs": [
    {
     "data": {
      "text/plain": [
       "[4, 1, 2, 3]"
      ]
     },
     "execution_count": 9,
     "metadata": {},
     "output_type": "execute_result"
    }
   ],
   "source": [
    "def solution(N, stages):\n",
    "    nums = [[i+1, 0] for i in range(N)]\n",
    "    for i in nums:\n",
    "        loser = stages.count(i[0]) # 해당 스테이지에 도전중인 유저\n",
    "        winner = 0\n",
    "        for j in range(i[0]+1, N+2): # 해당 스테이지를 클리어한 유저\n",
    "            winner += stages.count(j)\n",
    "        # winner == 0 loser != 0 실패율 1\n",
    "        if winner == 0 and loser != 0: # \n",
    "            nums[i[0]-1][1] = 1\n",
    "        # loser == 0 실패율 0\n",
    "        elif loser == 0:\n",
    "            pass\n",
    "        else:\n",
    "            nums[i[0]-1][1] = loser/winner # 실패율 계산\n",
    "    nums.sort(key = lambda x: (-x[1], x[0])) # 내림차순, 오름차순\n",
    "    answer = [num[0] for num in nums]\n",
    "    return answer\n",
    "\n",
    "solution(4, [4, 4, 4, 4, 4])"
   ]
  },
  {
   "cell_type": "markdown",
   "metadata": {},
   "source": [
    "* 시간 초과 문제 해결 1 - 실패\n",
    "\n",
    "    다음 연산에 쓰이지 않을 값 제거"
   ]
  },
  {
   "cell_type": "code",
   "execution_count": 12,
   "metadata": {},
   "outputs": [
    {
     "data": {
      "text/plain": [
       "[4, 1, 2, 3]"
      ]
     },
     "execution_count": 12,
     "metadata": {},
     "output_type": "execute_result"
    }
   ],
   "source": [
    "def solution(N, stages):\n",
    "    nums = [i+1 for i in range(N)]\n",
    "    per = [0 for i in range(N)]\n",
    "    for i in nums:\n",
    "        loser = stages.count(i) # 해당 스테이지에 도전중인 유저\n",
    "        winner = 0\n",
    "        for j in range(i+1, N+2): # 해당 스테이지를 클리어한 유저\n",
    "            winner += stages.count(j)\n",
    "        if loser != 0:\n",
    "            stages.remove(i)\n",
    "        # winner == 0 loser != 0 실패율 1\n",
    "        if winner == 0 and loser != 0: # \n",
    "            per[i-1] = 1\n",
    "        # loser == 0 실패율 0\n",
    "        elif loser == 0:\n",
    "            pass\n",
    "        else:\n",
    "            per[i-1] = loser/winner # 실패율 계산\n",
    "    failure = [(nums[i], per[i]) for i in range(N)]    \n",
    "    failure.sort(key = lambda x: (-x[1], x[0])) # 내림차순, 오름차순\n",
    "    \n",
    "    answer = [f[0] for f in failure]\n",
    "    return answer\n",
    "\n",
    "solution(4, [4, 4, 4, 4, 4])"
   ]
  },
  {
   "cell_type": "markdown",
   "metadata": {},
   "source": [
    "* 중복값 제거\n",
    "\n",
    "```\n",
    "remove()는 중복값을 제거해주지 않고 1개의 요소만 제거해 준다\n",
    "string = {a,b}\n",
    "list_ = [i for i in list_ if i not in string]"
   ]
  },
  {
   "cell_type": "code",
   "execution_count": null,
   "metadata": {},
   "outputs": [],
   "source": [
    "def solution(N, stages):\n",
    "    nums = [i+1 for i in range(N)]\n",
    "    per = [0 for i in range(N)]\n",
    "    for i in nums:# 1~\n",
    "        loser = stages.count(i) # 해당 스테이지에 도전중인 유저 1\n",
    "        winner = len(stages) # 해당 스테이지를 도전한 유저 8\n",
    "        print(stages)\n",
    "        # winner == 0 loser != 0 실패율 1\n",
    "        if winner == 0 and loser != 0: # \n",
    "            per[i-1] = 1\n",
    "        # loser == 0 실패율 0\n",
    "        elif loser == 0:\n",
    "            pass\n",
    "        else:\n",
    "            per[i-1] = loser/winner # 실패율 계산\n",
    "        if loser!= 0:\n",
    "            remove = i\n",
    "            stages = [i for i in stages if i != remove]\n",
    "    failure = [(nums[i], per[i]) for i in range(N)]    \n",
    "    failure.sort(key = lambda x: (-x[1], x[0])) # 내림차순, 오름차순\n",
    "    \n",
    "    answer = [(f[0]) for f in failure]\n",
    "    return answer"
   ]
  },
  {
   "cell_type": "markdown",
   "metadata": {},
   "source": [
    "* 시간 초과 해결 2 - 성공\n",
    "\n",
    "    딕셔너리 활용하여 count()함수를 반복문에서 사용하지 않음으로 시간 초과 해결"
   ]
  },
  {
   "cell_type": "code",
   "execution_count": null,
   "metadata": {},
   "outputs": [],
   "source": [
    "def solution(N, stages):\n",
    "    counts = {i: stages.count(i+1) for i in range(N+1)} # count는 한번만 실행해서 딕셔너리 만들어 두기\n",
    "\n",
    "    for i in range(N):\n",
    "        loser = counts[i]\n",
    "        winner = 0\n",
    "        for j in range(i, N+1):\n",
    "            winner += counts[j]\n",
    "        if loser == 0:\n",
    "            counts[i] = 0 # 도달한 사람도, 성공한 사람도 없는 스테이지 # 도달한 사람이 모두 성공한 스테이지\n",
    "        elif winner == 0 and loser != 0: # 도달했지만 성공한 사람이 없는 스테이지\n",
    "            counts[i] = 1\n",
    "        else:\n",
    "            counts[i] = loser / winner # 연산 끝난 스테이지는 실패율로 값 변경\n",
    "    del counts[N]\n",
    "    result = list(counts.items())\n",
    "    result.sort(key=lambda x: (-x[1], x[0])) # 실패율 내림차순, 스테이지 오름차순 정렬\n",
    "    answer = [r[0]+1 for r in result]\n",
    "    return answer"
   ]
  }
 ],
 "metadata": {
  "kernelspec": {
   "display_name": "section4_pj",
   "language": "python",
   "name": "python3"
  },
  "language_info": {
   "codemirror_mode": {
    "name": "ipython",
    "version": 3
   },
   "file_extension": ".py",
   "mimetype": "text/x-python",
   "name": "python",
   "nbconvert_exporter": "python",
   "pygments_lexer": "ipython3",
   "version": "3.8.undefined"
  }
 },
 "nbformat": 4,
 "nbformat_minor": 2
}
