{
 "cells": [
  {
   "cell_type": "markdown",
   "metadata": {},
   "source": [
    "# 문제 설명\n",
    "링크: https://school.programmers.co.kr/learn/courses/30/lessons/81301"
   ]
  },
  {
   "cell_type": "markdown",
   "metadata": {},
   "source": [
    "## 내 풀이"
   ]
  },
  {
   "cell_type": "code",
   "execution_count": 1,
   "metadata": {},
   "outputs": [],
   "source": [
    "def solution(s):\n",
    "    answer = ''\n",
    "    num = [i for i in range(10)]\n",
    "    string = ['zero', 'one', 'two', 'three', 'four',\\\n",
    "             'five', 'six', 'seven', 'eight', 'nine']\n",
    "    num_dic = dict(zip(string, num))# 딕셔너리 생성\n",
    "    test = '' # 테스트용 문자열\n",
    "    \n",
    "    for j in s: # 글자 하나씩 쪼개서\n",
    "        try:\n",
    "            int(j)\n",
    "            answer+=j # int()적용되면 answer+=\n",
    "        except:\n",
    "            test += j # 안되면 글자하나씩 합쳐서\n",
    "            if num_dic[test]: \n",
    "                answer+=num_dic[test] # 딕셔너리에 있으면 answer+=\n",
    "                test = '' # 테스트용 리셋\n",
    "\n",
    "    return int(answer)"
   ]
  },
  {
   "cell_type": "code",
   "execution_count": 2,
   "metadata": {},
   "outputs": [
    {
     "ename": "KeyError",
     "evalue": "'f'",
     "output_type": "error",
     "traceback": [
      "\u001b[0;31m---------------------------------------------------------------------------\u001b[0m",
      "\u001b[0;31mValueError\u001b[0m                                Traceback (most recent call last)",
      "Cell \u001b[0;32mIn[1], line 11\u001b[0m, in \u001b[0;36msolution\u001b[0;34m(s)\u001b[0m\n\u001b[1;32m     10\u001b[0m \u001b[38;5;28;01mtry\u001b[39;00m:\n\u001b[0;32m---> 11\u001b[0m     \u001b[38;5;28;43mint\u001b[39;49m\u001b[43m(\u001b[49m\u001b[43mj\u001b[49m\u001b[43m)\u001b[49m\n\u001b[1;32m     12\u001b[0m     answer\u001b[38;5;241m+\u001b[39m\u001b[38;5;241m=\u001b[39mj \u001b[38;5;66;03m# int()적용되면 answer+=\u001b[39;00m\n",
      "\u001b[0;31mValueError\u001b[0m: invalid literal for int() with base 10: 'f'",
      "\nDuring handling of the above exception, another exception occurred:\n",
      "\u001b[0;31mKeyError\u001b[0m                                  Traceback (most recent call last)",
      "Cell \u001b[0;32mIn[2], line 1\u001b[0m\n\u001b[0;32m----> 1\u001b[0m \u001b[43msolution\u001b[49m\u001b[43m(\u001b[49m\u001b[38;5;124;43m'\u001b[39;49m\u001b[38;5;124;43m23four5six7\u001b[39;49m\u001b[38;5;124;43m'\u001b[39;49m\u001b[43m)\u001b[49m\n",
      "Cell \u001b[0;32mIn[1], line 15\u001b[0m, in \u001b[0;36msolution\u001b[0;34m(s)\u001b[0m\n\u001b[1;32m     13\u001b[0m \u001b[38;5;28;01mexcept\u001b[39;00m:\n\u001b[1;32m     14\u001b[0m     test \u001b[38;5;241m+\u001b[39m\u001b[38;5;241m=\u001b[39m j \u001b[38;5;66;03m# 안되면 글자하나씩 합쳐서\u001b[39;00m\n\u001b[0;32m---> 15\u001b[0m     \u001b[38;5;28;01mif\u001b[39;00m \u001b[43mnum_dic\u001b[49m\u001b[43m[\u001b[49m\u001b[43mtest\u001b[49m\u001b[43m]\u001b[49m: \n\u001b[1;32m     16\u001b[0m         answer\u001b[38;5;241m+\u001b[39m\u001b[38;5;241m=\u001b[39mnum_dic[test] \u001b[38;5;66;03m# 딕셔너리에 있으면 answer+=\u001b[39;00m\n\u001b[1;32m     17\u001b[0m         test \u001b[38;5;241m=\u001b[39m \u001b[38;5;124m'\u001b[39m\u001b[38;5;124m'\u001b[39m \u001b[38;5;66;03m# 테스트용 리셋\u001b[39;00m\n",
      "\u001b[0;31mKeyError\u001b[0m: 'f'"
     ]
    }
   ],
   "source": [
    "solution('23four5six7')"
   ]
  },
  {
   "cell_type": "markdown",
   "metadata": {},
   "source": [
    "## 풀이 2"
   ]
  },
  {
   "cell_type": "code",
   "execution_count": 4,
   "metadata": {},
   "outputs": [
    {
     "data": {
      "text/plain": [
       "234567"
      ]
     },
     "execution_count": 4,
     "metadata": {},
     "output_type": "execute_result"
    }
   ],
   "source": [
    "def solution(s):\n",
    "    answer = ''\n",
    "    num = [str(i) for i in range(10)]\n",
    "    string = ['zero', 'one', 'two', 'three', 'four',\\\n",
    "             'five', 'six', 'seven', 'eight', 'nine']\n",
    "    num_dic = dict(zip(string, num))# 딕셔너리 생성\n",
    "    test = '' # 테스트용 문자열\n",
    "    \n",
    "    for j in s: # 글자 하나씩 쪼개서\n",
    "        try:\n",
    "            int(j)\n",
    "            answer+=j # int()적용되면 answer+=\n",
    "        except:\n",
    "            test += j # 안되면 글자하나씩 합쳐서\n",
    "            if test in num_dic.keys(): \n",
    "                answer+=num_dic[test] # 딕셔너리에 있으면 answer+=\n",
    "                test = '' # 테스트용 리셋\n",
    "\n",
    "    return int(answer)\n",
    "\n",
    "solution('23four5six7')"
   ]
  },
  {
   "cell_type": "markdown",
   "metadata": {},
   "source": [
    "## 참고풀이"
   ]
  },
  {
   "cell_type": "code",
   "execution_count": 6,
   "metadata": {},
   "outputs": [
    {
     "data": {
      "text/plain": [
       "234567"
      ]
     },
     "execution_count": 6,
     "metadata": {},
     "output_type": "execute_result"
    }
   ],
   "source": [
    "def solution(s):\n",
    "    answer = s\n",
    "    dic = {'zero':'0', 'one':'1','two':'2', 'three':'3', 'four':'4', 'five':'5', 'six':'6',\\\n",
    "        'seven':'7', 'eight':'8', 'nine':'9'}\n",
    "    for key, val in dic.items():\n",
    "        answer = answer.replace(key, val)\n",
    "    return int(answer)\n",
    "\n",
    "solution('23four5six7')"
   ]
  },
  {
   "cell_type": "code",
   "execution_count": null,
   "metadata": {},
   "outputs": [],
   "source": []
  }
 ],
 "metadata": {
  "kernelspec": {
   "display_name": "section4_pj",
   "language": "python",
   "name": "python3"
  },
  "language_info": {
   "codemirror_mode": {
    "name": "ipython",
    "version": 3
   },
   "file_extension": ".py",
   "mimetype": "text/x-python",
   "name": "python",
   "nbconvert_exporter": "python",
   "pygments_lexer": "ipython3",
   "version": "3.8.16"
  }
 },
 "nbformat": 4,
 "nbformat_minor": 2
}
