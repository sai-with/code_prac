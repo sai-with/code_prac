{
 "cells": [
  {
   "cell_type": "markdown",
   "metadata": {},
   "source": [
    "# 문제 설명\n",
    "링크 : https://school.programmers.co.kr/learn/courses/30/lessons/77884"
   ]
  },
  {
   "cell_type": "markdown",
   "metadata": {},
   "source": [
    "## 내풀이"
   ]
  },
  {
   "cell_type": "code",
   "execution_count": 1,
   "metadata": {},
   "outputs": [
    {
     "data": {
      "text/plain": [
       "43"
      ]
     },
     "execution_count": 1,
     "metadata": {},
     "output_type": "execute_result"
    }
   ],
   "source": [
    "def solution(left, right):\n",
    "    answer = 0\n",
    "    for num in range(left, right+1):\n",
    "        cnt = 2 #(1, num)\n",
    "        for i in range(2, num):\n",
    "            if num % i == 0:\n",
    "                cnt += 1\n",
    "                if num // 2 <= i:\n",
    "                    pass\n",
    "        if cnt % 2 == 0:\n",
    "                answer += num\n",
    "        else:\n",
    "                answer -= num\n",
    "            \n",
    "    return answer"
   ]
  },
  {
   "cell_type": "markdown",
   "metadata": {},
   "source": [
    "## 내 풀이2"
   ]
  },
  {
   "cell_type": "code",
   "execution_count": null,
   "metadata": {},
   "outputs": [],
   "source": [
    "def solution(left, right):\n",
    "    answer = 0\n",
    "    for num in range(left, right+1): # 범위 내 숫자들 반복문\n",
    "        cnt = 2 #(1, num)\n",
    "        for i in range(2, num//2+1):\n",
    "            if num % i == 0:\n",
    "                if num / i == i: \n",
    "                    cnt += 1 # 제곱수\n",
    "                else:\n",
    "                    cnt += 2 # 짝이 있으니까\n",
    "                \n",
    "        if cnt % 2 == 0: # 약수 개수 홀/짝\n",
    "                answer += num\n",
    "        else:\n",
    "                answer -= num\n",
    "            \n",
    "    return answer"
   ]
  },
  {
   "cell_type": "markdown",
   "metadata": {},
   "source": [
    "## 참고 풀이\n",
    "링크: "
   ]
  },
  {
   "cell_type": "code",
   "execution_count": null,
   "metadata": {},
   "outputs": [],
   "source": []
  }
 ],
 "metadata": {
  "kernelspec": {
   "display_name": "section4_pj",
   "language": "python",
   "name": "python3"
  },
  "language_info": {
   "codemirror_mode": {
    "name": "ipython",
    "version": 3
   },
   "file_extension": ".py",
   "mimetype": "text/x-python",
   "name": "python",
   "nbconvert_exporter": "python",
   "pygments_lexer": "ipython3",
   "version": "3.8.16"
  }
 },
 "nbformat": 4,
 "nbformat_minor": 2
}
