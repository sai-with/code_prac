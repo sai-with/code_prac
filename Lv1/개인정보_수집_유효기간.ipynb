{
 "cells": [
  {
   "cell_type": "markdown",
   "metadata": {},
   "source": [
    "# 개인정보 수집 유효기간\n",
    "링크: https://school.programmers.co.kr/learn/courses/30/lessons/150370"
   ]
  },
  {
   "cell_type": "markdown",
   "metadata": {},
   "source": [
    "* str to datetime\n",
    "\n",
    "    ```datetime.strptime(str, format)```\n",
    "\n",
    "    **format**\n",
    "\n",
    "* datetime 연산"
   ]
  },
  {
   "cell_type": "code",
   "execution_count": 2,
   "metadata": {},
   "outputs": [
    {
     "data": {
      "text/plain": [
       "datetime.datetime"
      ]
     },
     "execution_count": 2,
     "metadata": {},
     "output_type": "execute_result"
    }
   ],
   "source": [
    "from datetime import datetime\n",
    "string = '2018.05.13'\n",
    "date = datetime.strptime(string, '%Y.%m.%d')"
   ]
  },
  {
   "cell_type": "markdown",
   "metadata": {},
   "source": [
    "## 내 풀이"
   ]
  },
  {
   "cell_type": "code",
   "execution_count": 11,
   "metadata": {},
   "outputs": [
    {
     "data": {
      "text/plain": [
       "[1, 3]"
      ]
     },
     "execution_count": 11,
     "metadata": {},
     "output_type": "execute_result"
    }
   ],
   "source": [
    "from datetime import datetime # 날짜변환\n",
    "from dateutil.relativedelta import relativedelta # 월단위 연산\n",
    "\n",
    "def solution(today, terms, privacies):\n",
    "    answer = []\n",
    "    today = datetime.strptime(today, '%Y.%m.%d') # 오늘 날짜\n",
    "    term_dict = {t.split()[0]:int(t.split()[1]) for t in terms} # 약관: 유효기간 딕셔너리\n",
    "    for i, p in enumerate(privacies):\n",
    "        date, term = p.split() # 가입날짜, 약관유형\n",
    "        date = datetime.strptime(date, '%Y.%m.%d') # datetime 변환\n",
    "        if date + relativedelta(months=term_dict[term]) <= today:\n",
    "            # 가입일 + 유효기간 <= 오늘  ex 6.17 : 6.20 오늘 전에 유효기간이 끝난거니까\n",
    "            answer.append(i+1)\n",
    "    return answer\n",
    "\n",
    "solution(\"2022.05.19\", [\"A 6\", \"B 12\", \"C 3\"], [\"2021.05.02 A\", \"2021.07.01 B\", \"2022.02.19 C\", \"2022.02.20 C\"])"
   ]
  },
  {
   "cell_type": "markdown",
   "metadata": {},
   "source": [
    "## 모듈 없이 풀이\n",
    "\n",
    "**모든 달은 28일까지라고 가정돼있음**\n"
   ]
  },
  {
   "cell_type": "code",
   "execution_count": null,
   "metadata": {},
   "outputs": [],
   "source": [
    "def solution(today, terms, privacies):\n",
    "    t_dict = {t.split()[0]: int(t.split()[1]) for t in terms} # {'A': 6}\n",
    "    answer = []\n",
    "    \n",
    "    def days(date): # date -> days\n",
    "        y, m, d = date.split('.')\n",
    "        # 2000-2022년이니까\n",
    "        y = (int(y)-2000) * 12 * 28 \n",
    "        m = (int(m)-1) * 28\n",
    "        d = int(d)\n",
    "        return y+m+d # 2000년 기준 소요일 수\n",
    "    \n",
    "    today = days(today)\n",
    "    for i, p in enumerate(privacies):\n",
    "        date, term = p.split()\n",
    "        date = days(date) + t_dict[term] * 28 # 유효기간 만료일\n",
    "        if date <= today: # 당일이거나 지났으면\n",
    "            answer.append(i+1)\n",
    "    return answer"
   ]
  }
 ],
 "metadata": {
  "kernelspec": {
   "display_name": "section4_pj",
   "language": "python",
   "name": "python3"
  },
  "language_info": {
   "codemirror_mode": {
    "name": "ipython",
    "version": 3
   },
   "file_extension": ".py",
   "mimetype": "text/x-python",
   "name": "python",
   "nbconvert_exporter": "python",
   "pygments_lexer": "ipython3",
   "version": "3.8.16"
  }
 },
 "nbformat": 4,
 "nbformat_minor": 2
}
