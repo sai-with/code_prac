{
 "cells": [
  {
   "cell_type": "markdown",
   "metadata": {},
   "source": [
    "# 문제설명\n",
    "링크: https://school.programmers.co.kr/learn/courses/30/lessons/138477"
   ]
  },
  {
   "cell_type": "markdown",
   "metadata": {},
   "source": [
    "## 참고 풀이\n",
    "링크: https://velog.io/@minmong/%ED%94%84%EB%A1%9C%EA%B7%B8%EB%9E%98%EB%A8%B8%EC%8A%A4-Lv.1-%EB%AA%85%EC%98%88%EC%9D%98-%EC%A0%84%EB%8B%B9-Python-velog"
   ]
  },
  {
   "cell_type": "code",
   "execution_count": 14,
   "metadata": {},
   "outputs": [
    {
     "data": {
      "text/plain": [
       "[300, 40, 40, 0, 20, 40, 70, 70, 150, 300]"
      ]
     },
     "execution_count": 14,
     "metadata": {},
     "output_type": "execute_result"
    }
   ],
   "source": [
    "#4, [300, 40, 300, 0, 20, 70, 150, 50, 500, 1000]\n",
    "def solution(k, score):\n",
    "    result = []\n",
    "    answer = []\n",
    "    for s in score:\n",
    "        if len(answer) < k:\n",
    "            answer.append(s) # k명 까지는 자동으로 명예의 전당\n",
    "        else: # 갱신이 필요하면\n",
    "            min_num = min(answer)\n",
    "            if s > min_num:\n",
    "                answer.remove(min_num) # 최소값을 밀어내고\n",
    "                answer.append(s) # 갱신\n",
    "        result.append(min(answer)) # 점수 반영 완료 후 최소값 결과에 저장\n",
    "    return result\n",
    "solution(4, [300, 40, 300, 0, 20, 70, 150, 50, 500, 1000])\n",
    "        \n",
    "            \n",
    "    \n",
    "    "
   ]
  },
  {
   "cell_type": "markdown",
   "metadata": {},
   "source": [
    "정렬할 필요없이 최소값만 내어주면 되는 단순한 문제"
   ]
  }
 ],
 "metadata": {
  "kernelspec": {
   "display_name": "section4_pj",
   "language": "python",
   "name": "python3"
  },
  "language_info": {
   "codemirror_mode": {
    "name": "ipython",
    "version": 3
   },
   "file_extension": ".py",
   "mimetype": "text/x-python",
   "name": "python",
   "nbconvert_exporter": "python",
   "pygments_lexer": "ipython3",
   "version": "3.8.-1"
  }
 },
 "nbformat": 4,
 "nbformat_minor": 2
}
