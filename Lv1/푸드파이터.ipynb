{
 "cells": [
  {
   "cell_type": "markdown",
   "metadata": {},
   "source": [
    "# 문제설명\n",
    "링크: https://school.programmers.co.kr/learn/courses/30/lessons/134240"
   ]
  },
  {
   "cell_type": "markdown",
   "metadata": {},
   "source": [
    "## 내 풀이"
   ]
  },
  {
   "cell_type": "code",
   "execution_count": null,
   "metadata": {},
   "outputs": [],
   "source": [
    "def solution(food):\n",
    "    answer = '' #\n",
    "    # 절반씩 문자열 합성\n",
    "    for i, f in enumerate(food):\n",
    "        if i != 0:\n",
    "            dish =str(i) # 음식 순서\n",
    "            num = f // 2 # 한명 식사량\n",
    "            answer = answer+ (dish * num)\n",
    "    # 물(0)과 역순 결합\n",
    "    answer = answer + '0' + answer[::-1] # 역순으로\n",
    "    return answer\n",
    "\n",
    "        "
   ]
  },
  {
   "cell_type": "markdown",
   "metadata": {},
   "source": [
    "* string은 ```reverse```함수 적용 안됨\n",
    "\n",
    "    ```str[::-1]``` \n",
    "\n",
    "    또는\n",
    "\n",
    "    ```''.join(reversed(str))```"
   ]
  }
 ],
 "metadata": {
  "kernelspec": {
   "display_name": "section4_pj",
   "language": "python",
   "name": "python3"
  },
  "language_info": {
   "codemirror_mode": {
    "name": "ipython",
    "version": 3
   },
   "file_extension": ".py",
   "mimetype": "text/x-python",
   "name": "python",
   "nbconvert_exporter": "python",
   "pygments_lexer": "ipython3",
   "version": "3.8.16"
  }
 },
 "nbformat": 4,
 "nbformat_minor": 2
}
