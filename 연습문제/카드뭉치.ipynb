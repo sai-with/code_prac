{
 "cells": [
  {
   "cell_type": "markdown",
   "metadata": {},
   "source": [
    "# 카드뭉치\n",
    "링크: https://school.programmers.co.kr/learn/courses/30/lessons/159994"
   ]
  },
  {
   "cell_type": "markdown",
   "metadata": {},
   "source": [
    "## 문제 설명\n",
    "\n",
    "1 ≤ cards1의 길이, cards2의 길이 ≤ 10\n",
    "\n",
    "1 ≤ cards1[i]의 길이, cards2[i]의 길이 ≤ 10\n",
    "\n",
    "cards1과 cards2에는 서로 다른 단어만 존재합니다.\n",
    "\n",
    "2 ≤ goal의 길이 ≤ cards1의 길이 + cards2의 길이\n",
    "\n",
    "1 ≤ goal[i]의 길이 ≤ 10\n",
    "\n",
    "goal의 원소는 cards1과 cards2의 원소들로만 이루어져 있습니다.\n",
    "\n",
    "cards1, cards2, goal의 문자열들은 모두 알파벳 소문자로만 이루어져 있습니다.\n",
    "\n",
    "<img src='./imgs/카드뭉치.png' width=500px height=250px></img>\n",
    "\n",
    "cards1에서 \"i\"를 사용하고 cards2에서 \"want\"와 \"to\"를 사용하여 \"i want to\"까지는 만들 수 있지만\n",
    "\n",
    "\"water\"가 \"drink\"보다 먼저 사용되어야 하기 때문에 해당 문장을 완성시킬 수 없습니다. 따라서 \"No\"를 반환합니다."
   ]
  },
  {
   "cell_type": "markdown",
   "metadata": {},
   "source": [
    "### 내 풀이"
   ]
  },
  {
   "cell_type": "code",
   "execution_count": null,
   "metadata": {},
   "outputs": [],
   "source": [
    "def solution(cards1, cards2, goal):\n",
    "    for i in range(len(goal)):\n",
    "        # 카드1에서 찾기 (값이 있고, 첫번째 단어랑 맞아떨어지는 경우)\n",
    "        if cards1!= [] and goal[i] == cards1[0]:\n",
    "            cards1.pop(0)\n",
    "            pass\n",
    "        # 카드2에서 찾기\n",
    "        elif cards2!= [] and goal[i] == cards2[0]:\n",
    "            cards2.pop(0)\n",
    "            pass\n",
    "        elif cards1 == [] and cards2 == []:\n",
    "            return 'Yes' # 모두 비었으면 완성된 것 (카드에 없는 원소 없으니까)\n",
    "        else:\n",
    "            return 'No'\n",
    "    return 'Yes'"
   ]
  },
  {
   "cell_type": "markdown",
   "metadata": {},
   "source": [
    "# "
   ]
  }
 ],
 "metadata": {
  "kernelspec": {
   "display_name": "section4_pj",
   "language": "python",
   "name": "python3"
  },
  "language_info": {
   "codemirror_mode": {
    "name": "ipython",
    "version": 3
   },
   "file_extension": ".py",
   "mimetype": "text/x-python",
   "name": "python",
   "nbconvert_exporter": "python",
   "pygments_lexer": "ipython3",
   "version": "3.8.16"
  }
 },
 "nbformat": 4,
 "nbformat_minor": 2
}
