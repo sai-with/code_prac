{
 "cells": [
  {
   "cell_type": "markdown",
   "metadata": {},
   "source": [
    "# 외계어사전\n",
    "링크: https://school.programmers.co.kr/learn/courses/30/lessons/120869"
   ]
  },
  {
   "cell_type": "markdown",
   "metadata": {},
   "source": [
    "## 첫번째 풀이"
   ]
  },
  {
   "cell_type": "code",
   "execution_count": null,
   "metadata": {},
   "outputs": [],
   "source": [
    "def solution(spell, dic):\n",
    "    for word in dic: # 단어마다\n",
    "        count = len(spell) # spell 총 개수\n",
    "        spells = [','.join(word)] # 쪼개주고\n",
    "        for s in spells:\n",
    "            if s in spell: # spell 안에 있으면\n",
    "                count -= 1\n",
    "        if count == 0: # spell을 모두 사용한 단어가 존재하면\n",
    "            return 1\n",
    "        else:\n",
    "            pass\n",
    "    return 2"
   ]
  },
  {
   "cell_type": "markdown",
   "metadata": {},
   "source": [
    "* 실패\n",
    "\n",
    "**case**\n",
    "\n",
    "```\t[\"z\", \"d\", \"x\"], [\"def\", \"dww\", \"dzx\", \"loveaw\"]```"
   ]
  }
 ],
 "metadata": {
  "kernelspec": {
   "display_name": "section4_pj",
   "language": "python",
   "name": "python3"
  },
  "language_info": {
   "codemirror_mode": {
    "name": "ipython",
    "version": 3
   },
   "file_extension": ".py",
   "mimetype": "text/x-python",
   "name": "python",
   "nbconvert_exporter": "python",
   "pygments_lexer": "ipython3",
   "version": "3.8.16"
  }
 },
 "nbformat": 4,
 "nbformat_minor": 2
}
