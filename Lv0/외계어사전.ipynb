{
 "cells": [
  {
   "cell_type": "markdown",
   "metadata": {},
   "source": [
    "# 외계어사전\n",
    "링크: https://school.programmers.co.kr/learn/courses/30/lessons/120869"
   ]
  },
  {
   "cell_type": "markdown",
   "metadata": {},
   "source": [
    "## 첫번째 풀이"
   ]
  },
  {
   "cell_type": "code",
   "execution_count": null,
   "metadata": {},
   "outputs": [],
   "source": [
    "def solution(spell, dic):\n",
    "    for word in dic: # 단어마다\n",
    "        count = len(spell) # spell 총 개수\n",
    "        spells = [','.join(word)] # 쪼개주고\n",
    "        for s in spells:\n",
    "            if s in spell: # spell 안에 있으면\n",
    "                count -= 1\n",
    "        if count == 0: # spell을 모두 사용한 단어가 존재하면\n",
    "            return 1\n",
    "        else:\n",
    "            pass\n",
    "    return 2"
   ]
  },
  {
   "cell_type": "markdown",
   "metadata": {},
   "source": [
    "* 실패\n",
    "\n",
    "**case**\n",
    "\n",
    "```\t[\"z\", \"d\", \"x\"], [\"def\", \"dww\", \"dzx\", \"loveaw\"]```"
   ]
  },
  {
   "cell_type": "markdown",
   "metadata": {},
   "source": [
    "## 두번째 풀이"
   ]
  },
  {
   "cell_type": "code",
   "execution_count": null,
   "metadata": {},
   "outputs": [],
   "source": [
    "def solution(spell, dic):\n",
    "    for word in dic: # 단어마다\n",
    "        copy = spell # 비교리스트\n",
    "        for w in word:\n",
    "            if w in copy: # copy 안에 있으면\n",
    "                copy.remove(w) # 제거\n",
    "        if copy == []: # 모든 알파벳을 사용했으면\n",
    "            return 1\n",
    "    return 2"
   ]
  },
  {
   "cell_type": "markdown",
   "metadata": {},
   "source": [
    "* 실패\n",
    "\n",
    "**case**\n",
    "\n",
    "```[\"s\", \"o\", \"m\", \"d\"], [\"moos\", \"dzx\", \"smm\", \"sunmmo\", \"som\"]```"
   ]
  },
  {
   "cell_type": "markdown",
   "metadata": {},
   "source": [
    "## 세번째 풀이"
   ]
  },
  {
   "cell_type": "code",
   "execution_count": 8,
   "metadata": {},
   "outputs": [],
   "source": [
    "# 집합 만들어서 비교!\n",
    "def solution(spell, dic):\n",
    "    for word in dic: # 단어마다\n",
    "        if set(spell) == set(word): # 중복 제거한 집합 원소가 spell과 일치하면\n",
    "            return 1\n",
    "        \n",
    "    return 2 # 반복문 빠져나왔다면 일치항목 없다는 뜻"
   ]
  },
  {
   "cell_type": "markdown",
   "metadata": {},
   "source": [
    "* string to list:\n",
    "\n",
    "    ```word = list(word)```\n",
    "\n",
    "* 그냥 바로 집합 만들기도 가능\n",
    "\n",
    "    ```set(word)```"
   ]
  },
  {
   "cell_type": "markdown",
   "metadata": {},
   "source": [
    "## 정답 풀이 참고\n",
    "링크: https://velog.io/@sugyeonghh/%ED%94%84%EB%A1%9C%EA%B7%B8%EB%9E%98%EB%A8%B8%EC%8A%A4-%EC%99%B8%EA%B3%84%EC%96%B4-%EC%82%AC%EC%A0%84Python"
   ]
  },
  {
   "cell_type": "code",
   "execution_count": null,
   "metadata": {},
   "outputs": [],
   "source": [
    "# 같은 표현\n",
    "if set(spell) == set(word):\n",
    "    \n",
    "if not set(spell) - set(word): # not 0 == True"
   ]
  }
 ],
 "metadata": {
  "kernelspec": {
   "display_name": "section4_pj",
   "language": "python",
   "name": "python3"
  },
  "language_info": {
   "codemirror_mode": {
    "name": "ipython",
    "version": 3
   },
   "file_extension": ".py",
   "mimetype": "text/x-python",
   "name": "python",
   "nbconvert_exporter": "python",
   "pygments_lexer": "ipython3",
   "version": "3.8.16"
  }
 },
 "nbformat": 4,
 "nbformat_minor": 2
}
