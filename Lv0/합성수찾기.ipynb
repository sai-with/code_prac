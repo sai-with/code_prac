{
 "cells": [
  {
   "cell_type": "markdown",
   "metadata": {},
   "source": [
    "# 합성수 찾기\n",
    "링크: https://school.programmers.co.kr/learn/courses/30/lessons/120846"
   ]
  },
  {
   "cell_type": "markdown",
   "metadata": {},
   "source": [
    "## 문제 설명\n",
    "\n",
    "약수의 개수가 세 개 이상인 수를 합성수라고 합니다. 자연수 n이 매개변수로 주어질 때 n이하의 합성수의 개수를 return하도록 solution 함수를 완성해주세요."
   ]
  },
  {
   "cell_type": "markdown",
   "metadata": {},
   "source": [
    "* 나누기 연산자\n",
    "\n",
    "    몫: ```//```\n",
    "\n",
    "    나머지: ```%```\n",
    "\n",
    "    나눈 값: ```/```\n",
    "\n",
    "    몫, 나머지: ```divmod(a,b)```"
   ]
  },
  {
   "cell_type": "markdown",
   "metadata": {},
   "source": [
    "* 참고링크: https://sefact.github.io/posts/120846/"
   ]
  },
  {
   "cell_type": "markdown",
   "metadata": {},
   "source": [
    "### 참고풀이"
   ]
  },
  {
   "cell_type": "code",
   "execution_count": null,
   "metadata": {},
   "outputs": [],
   "source": [
    "def solution(n):\n",
    "    arr = [] # 나머지없이 나눠진 숫자들\n",
    "    answer = 0 # 합성수의 개수\n",
    "    # 2부터 n까지\n",
    "    for i in range(2, n+1):\n",
    "    # 1부터 현재수 까지로 나눠서\n",
    "        for j in range(1, i+1):\n",
    "    # 나머지 없이 나눠지면 append\n",
    "            if i % j == 0:\n",
    "                arr.append(i)\n",
    "    # j 반복문 종료 후 리스트 안에 3번 이상(합성수 조건) 들어간 숫자의 개수 반환\n",
    "        if arr.count(i) >=3:\n",
    "            answer += 1\n",
    "    return answer"
   ]
  }
 ],
 "metadata": {
  "language_info": {
   "name": "python"
  }
 },
 "nbformat": 4,
 "nbformat_minor": 2
}
